{
  "nbformat": 4,
  "nbformat_minor": 0,
  "metadata": {
    "colab": {
      "provenance": [],
      "authorship_tag": "ABX9TyPHvYUlHJHxbeG3N1aR76aC",
      "include_colab_link": true
    },
    "kernelspec": {
      "name": "python3",
      "display_name": "Python 3"
    },
    "language_info": {
      "name": "python"
    }
  },
  "cells": [
    {
      "cell_type": "markdown",
      "metadata": {
        "id": "view-in-github",
        "colab_type": "text"
      },
      "source": [
        "<a href=\"https://colab.research.google.com/github/rchodavarapuv/MyPersonalFolder/blob/master/RepeatedSubstring.ipynb\" target=\"_parent\"><img src=\"https://colab.research.google.com/assets/colab-badge.svg\" alt=\"Open In Colab\"/></a>"
      ]
    },
    {
      "cell_type": "code",
      "execution_count": 36,
      "metadata": {
        "colab": {
          "base_uri": "https://localhost:8080/"
        },
        "id": "7DUbddN-c72A",
        "outputId": "615224be-6587-4fb9-894c-91db89213da7"
      },
      "outputs": [
        {
          "output_type": "stream",
          "name": "stdout",
          "text": [
            "Prefix symbols: a\n",
            "Prefix symbols: ab\n",
            "aaaaaa\n",
            "ababab\n",
            "Success\n"
          ]
        }
      ],
      "source": [
        "s = \"ababab\"\n",
        "a = int(len(s)/2)\n",
        "\n",
        "prefixArr =[\"\" for x in range(int(a))]\n",
        "prefixToString =[\"\" for x in range(int(a))]\n",
        "\n",
        "for x in range(1, int(a)):\n",
        "  prefixArr[x] = s[:x]\n",
        "  print(\"Prefix symbols:\",prefixArr[x])\n",
        "\n",
        "j=0\n",
        "for i in range(1,int(a)):\n",
        "  b = int(len(s)/len(prefixArr[i]))\n",
        "  while(j < b):\n",
        "    prefixToString[i] = prefixToString[i] + prefixArr[i]\n",
        "    j = j+1\n",
        "\n",
        "  print(prefixToString[i])\n",
        "  j=0\n",
        "  if(prefixToString[i] == s):\n",
        "    print(\"Success\")\n"
      ]
    }
  ]
}