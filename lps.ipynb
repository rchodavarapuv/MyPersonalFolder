{
  "nbformat": 4,
  "nbformat_minor": 0,
  "metadata": {
    "colab": {
      "provenance": [],
      "collapsed_sections": [],
      "authorship_tag": "ABX9TyOL/8ldje1PQcoJRFLSOkFM",
      "include_colab_link": true
    },
    "kernelspec": {
      "name": "python3",
      "display_name": "Python 3"
    },
    "language_info": {
      "name": "python"
    }
  },
  "cells": [
    {
      "cell_type": "markdown",
      "metadata": {
        "id": "view-in-github",
        "colab_type": "text"
      },
      "source": [
        "<a href=\"https://colab.research.google.com/github/rchodavarapuv/MyPersonalFolder/blob/master/lps.ipynb\" target=\"_parent\"><img src=\"https://colab.research.google.com/assets/colab-badge.svg\" alt=\"Open In Colab\"/></a>"
      ]
    },
    {
      "cell_type": "code",
      "execution_count": 13,
      "metadata": {
        "colab": {
          "base_uri": "https://localhost:8080/"
        },
        "id": "BOiLfj-5LdAr",
        "outputId": "78838c07-1aec-42f9-9769-83ba7c7222ed"
      },
      "outputs": [
        {
          "output_type": "stream",
          "name": "stdout",
          "text": [
            "['geeksforgeeks', 'geeks', 'geek', 'geezer'] <class 'list'>\n",
            "gee\n"
          ]
        }
      ],
      "source": [
        "def lps(s, t):\n",
        "  result =\"\"\n",
        "  m = len(s)\n",
        "  n = len(t)\n",
        "  i=0\n",
        "  j=0\n",
        "\n",
        "  while i<= m-1 and j<=n-1:\n",
        "    if s[i]==t[j]:\n",
        "      result = result+s[i]\n",
        "      i=i+1\n",
        "      j=j+1\n",
        "    else:\n",
        "      break\n",
        "\n",
        "  return result\n",
        "\n",
        "s = [\"geeksforgeeks\",\"geeks\", \"geek\",\"geezer\"]\n",
        "print(s,type(s))\n",
        "\n",
        "a=s[0]\n",
        "for i in range(len(s)-1):\n",
        "  if(len(s[i]) and len(s[i+1])):\n",
        "    a = lps(a,s[i+1])\n",
        "\n",
        "print(a)\n"
      ]
    }
  ]
}