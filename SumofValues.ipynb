{
  "nbformat": 4,
  "nbformat_minor": 0,
  "metadata": {
    "colab": {
      "name": "SumofValues.ipynb",
      "provenance": [],
      "authorship_tag": "ABX9TyOmrN9m2Jp75VGzaU7EFW94",
      "include_colab_link": true
    },
    "kernelspec": {
      "name": "python3",
      "display_name": "Python 3"
    },
    "language_info": {
      "name": "python"
    }
  },
  "cells": [
    {
      "cell_type": "markdown",
      "metadata": {
        "id": "view-in-github",
        "colab_type": "text"
      },
      "source": [
        "<a href=\"https://colab.research.google.com/github/rchodavarapuv/MyPersonalFolder/blob/master/SumofValues.ipynb\" target=\"_parent\"><img src=\"https://colab.research.google.com/assets/colab-badge.svg\" alt=\"Open In Colab\"/></a>"
      ]
    },
    {
      "cell_type": "code",
      "execution_count": 1,
      "metadata": {
        "colab": {
          "base_uri": "https://localhost:8080/"
        },
        "id": "q9WqSn7vjNOI",
        "outputId": "b9c8255d-e5e7-4638-ad24-a6ab55a22fd4"
      },
      "outputs": [
        {
          "output_type": "stream",
          "name": "stdout",
          "text": [
            "{5}\n",
            "{5, 7}\n",
            "{8, 5, 7}\n",
            "{8, 5, 7}\n"
          ]
        },
        {
          "output_type": "execute_result",
          "data": {
            "text/plain": [
              "True"
            ]
          },
          "metadata": {},
          "execution_count": 1
        }
      ],
      "source": [
        "def find_sum_of_two(A, val):\n",
        "  found_values = set()\n",
        "  for a in A:\n",
        "    if val - a in found_values:\n",
        "      print(found_values)\n",
        "      return True\n",
        "\n",
        "    found_values.add(a)\n",
        "    print(found_values)\n",
        "    \n",
        "  return False\n",
        "\n",
        "A = [5, 7, 8 ,2,1,4,3 ]\n",
        "val = 10\n",
        "find_sum_of_two(A,val)"
      ]
    }
  ]
}