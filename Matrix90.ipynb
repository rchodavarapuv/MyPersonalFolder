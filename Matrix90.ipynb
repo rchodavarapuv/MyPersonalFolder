{
  "nbformat": 4,
  "nbformat_minor": 0,
  "metadata": {
    "colab": {
      "name": "Matrix90.ipynb",
      "provenance": [],
      "authorship_tag": "ABX9TyPDvHIzmihsWudK9gq4Tjt8",
      "include_colab_link": true
    },
    "kernelspec": {
      "name": "python3",
      "display_name": "Python 3"
    },
    "language_info": {
      "name": "python"
    }
  },
  "cells": [
    {
      "cell_type": "markdown",
      "metadata": {
        "id": "view-in-github",
        "colab_type": "text"
      },
      "source": [
        "<a href=\"https://colab.research.google.com/github/rchodavarapuv/MyPersonalFolder/blob/master/Matrix90.ipynb\" target=\"_parent\"><img src=\"https://colab.research.google.com/assets/colab-badge.svg\" alt=\"Open In Colab\"/></a>"
      ]
    },
    {
      "cell_type": "code",
      "execution_count": 14,
      "metadata": {
        "colab": {
          "base_uri": "https://localhost:8080/"
        },
        "id": "zvRGOTJp6NuT",
        "outputId": "4613a633-a241-4944-aeea-4b74263bf5c0"
      },
      "outputs": [
        {
          "output_type": "stream",
          "name": "stdout",
          "text": [
            "[[3 6 9]\n",
            " [2 5 8]\n",
            " [1 4 7]]\n"
          ]
        }
      ],
      "source": [
        "import numpy as np\n",
        "\n",
        "def swap(x, y):\n",
        "  x = x + y\n",
        "  y = x - y\n",
        "  x = x - y\n",
        "  return x, y\n",
        "\n",
        "\n",
        "a = np.array([[1, 2, 3], [4, 5, 6], [7,8,9]])\n",
        "a = np.transpose(a)\n",
        "\n",
        "a[0,:], a[2,:] = swap(a[0,:], a[2,:])\n",
        "\n",
        "print(a)"
      ]
    }
  ]
}