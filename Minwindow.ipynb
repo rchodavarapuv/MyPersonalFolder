{
  "nbformat": 4,
  "nbformat_minor": 0,
  "metadata": {
    "colab": {
      "provenance": [],
      "authorship_tag": "ABX9TyNVwXo9kn8rgUWqzBhhYvpw",
      "include_colab_link": true
    },
    "kernelspec": {
      "name": "python3",
      "display_name": "Python 3"
    },
    "language_info": {
      "name": "python"
    }
  },
  "cells": [
    {
      "cell_type": "markdown",
      "metadata": {
        "id": "view-in-github",
        "colab_type": "text"
      },
      "source": [
        "<a href=\"https://colab.research.google.com/github/rchodavarapuv/MyPersonalFolder/blob/master/Minwindow.ipynb\" target=\"_parent\"><img src=\"https://colab.research.google.com/assets/colab-badge.svg\" alt=\"Open In Colab\"/></a>"
      ]
    },
    {
      "cell_type": "code",
      "execution_count": 32,
      "metadata": {
        "colab": {
          "base_uri": "https://localhost:8080/"
        },
        "id": "XcYKUlB3mYUT",
        "outputId": "32d235d3-987b-41bc-a621-5568c9b30c41"
      },
      "outputs": [
        {
          "output_type": "stream",
          "name": "stdout",
          "text": [
            "ABC BANC\n",
            "ABC ABCODEBANC\n"
          ]
        }
      ],
      "source": [
        "s = \"ABCODEBANC\"\n",
        "length = len(s)\n",
        "t = \"ABC\"\n",
        "t2=\"\"\n",
        "suf = [\"\" for x in range(len(s))]\n",
        "count = 0\n",
        "\n",
        "for i in range(length):\n",
        " suf[i] = s[length-i-1:]\n",
        " #print(suf[i])\n",
        " for j in range(len(t)):\n",
        "   if(suf[i][0] == t[j]):\n",
        "     t2= t2+t[j]\n",
        "     if(sorted(t2) == sorted(t)):\n",
        "       print(t, suf[i])\n",
        "       t2=\"\"\n",
        "       break\n",
        " \n",
        "\n",
        "\n",
        "\n",
        "\n"
      ]
    }
  ]
}